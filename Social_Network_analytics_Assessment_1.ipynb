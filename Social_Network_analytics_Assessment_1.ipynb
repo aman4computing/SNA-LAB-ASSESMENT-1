{
  "nbformat": 4,
  "nbformat_minor": 0,
  "metadata": {
    "colab": {
      "provenance": []
    },
    "kernelspec": {
      "name": "python3",
      "display_name": "Python 3"
    },
    "language_info": {
      "name": "python"
    }
  },
  "cells": [
    {
      "cell_type": "markdown",
      "source": [
        " ASSESMENT 1 \n",
        "\n",
        "SOCIAL NETWORK ANALYTICS \n",
        "\n",
        "AMAN KUMAR SHARMA\n",
        "\n",
        "22MCB0021\n",
        "\n",
        "VIT VELLORE"
      ],
      "metadata": {
        "id": "SIkhK590ucJM"
      }
    },
    {
      "cell_type": "markdown",
      "source": [],
      "metadata": {
        "id": "XwBW6CDnunEw"
      }
    },
    {
      "cell_type": "code",
      "execution_count": 10,
      "metadata": {
        "id": "Dkwb_EyFo95v"
      },
      "outputs": [],
      "source": [
        "import networkx as nx\n",
        "import pandas as pd\n",
        "import numpy as np\n",
        "from matplotlib import pyplot as plt \n",
        "%matplotlib inline"
      ]
    },
    {
      "cell_type": "markdown",
      "source": [
        "QUESTION 1&2"
      ],
      "metadata": {
        "id": "fB3beKmJq8zA"
      }
    },
    {
      "cell_type": "code",
      "source": [
        "csvfile = 'edges_list.csv'"
      ],
      "metadata": {
        "id": "LejBT0aRqp7Q"
      },
      "execution_count": 11,
      "outputs": []
    },
    {
      "cell_type": "code",
      "source": [
        "G = nx.Graph()"
      ],
      "metadata": {
        "id": "LRmeON92q1W2"
      },
      "execution_count": 12,
      "outputs": []
    },
    {
      "cell_type": "code",
      "source": [
        "def graph_built_undirected(csvfile):\n",
        "  df = pd.read_csv(csvfile)\n",
        "  edges=[]\n",
        "  for i in range(len(df)):\n",
        "    edges.append((df.Source[i],df.Destination[i],int(df.Weight[i])))\n",
        "\n",
        "  G.add_weighted_edges_from(edges)\n",
        "  edge_labels = nx.get_edge_attributes(G, \"weight\")\n",
        "  # getting different graph attributes\n",
        "  print(\"Total number of nodes: \", int(G.number_of_nodes()))\n",
        "  print(\"Total number of edges: \", int(G.number_of_edges()))\n",
        "  print(\"List of all nodes: \", list(G.nodes()))\n",
        "  print(\"List of all edges: \", list(G.edges()))\n",
        "  print(\"Degree for all nodes: \", dict(G.degree()))\n",
        "  print(\"Max Degree Node: \", max(zip(dict(G.degree()).values(), dict(G.degree()).keys()))[1])\n",
        "  print(\"Min Degree Node: \", min(zip(dict(G.degree()).values(), dict(G.degree()).keys()))[1])\n",
        "  nx.draw_networkx(G, with_labels = True)\n",
        "  plt.savefig(\"Undirected_Graph.png\", format=\"PNG\")\n",
        "  #pos = nx.spring_layout(G, seed=7) \n",
        "  #nx.draw_networkx_edge_labels(G, pos, edge_labels)"
      ],
      "metadata": {
        "id": "-WvhxTlrrDEP"
      },
      "execution_count": 13,
      "outputs": []
    },
    {
      "cell_type": "code",
      "source": [
        "graph_built_undirected(csvfile)\n"
      ],
      "metadata": {
        "colab": {
          "base_uri": "https://localhost:8080/",
          "height": 369
        },
        "id": "w_t0RbbwrJnH",
        "outputId": "561a447b-0673-431f-c677-168629a8ad08"
      },
      "execution_count": 14,
      "outputs": [
        {
          "output_type": "stream",
          "name": "stdout",
          "text": [
            "Total number of nodes:  10\n",
            "Total number of edges:  14\n",
            "List of all nodes:  [0, 1, 2, 8, 9, 4, 6, 3, 5, 7]\n",
            "List of all edges:  [(0, 1), (0, 2), (0, 8), (0, 9), (0, 4), (1, 6), (1, 3), (2, 6), (8, 7), (9, 5), (4, 5), (6, 5), (3, 5), (3, 7)]\n",
            "Degree for all nodes:  {0: 5, 1: 3, 2: 2, 8: 2, 9: 2, 4: 2, 6: 3, 3: 3, 5: 4, 7: 2}\n",
            "Max Degree Node:  0\n",
            "Min Degree Node:  2\n"
          ]
        },
        {
          "output_type": "display_data",
          "data": {
            "text/plain": [
              "<Figure size 432x288 with 1 Axes>"
            ],
            "image/png": "[encoded data removed]"
          },
          "metadata": {}
        }
      ]
    },
    {
      "cell_type": "code",
      "source": [
        "G2= nx.DiGraph()"
      ],
      "metadata": {
        "id": "hzbznDsUrWzf"
      },
      "execution_count": 15,
      "outputs": []
    },
    {
      "cell_type": "code",
      "source": [
        "def graph_built_directed(csvfile):\n",
        "  edges=[]\n",
        "  df = pd.read_csv(csvfile)\n",
        "  for i in range(len(df)):\n",
        "    edges.append((df.Source[i],df.Destination[i]))\n",
        "\n",
        "  G2.add_edges_from(edges)\n",
        "  # getting different graph attributes\n",
        "  print(\"Total number of nodes: \", int(G2.number_of_nodes()))\n",
        "  print(\"Total number of edges: \", int(G2.number_of_edges()))\n",
        "  print(\"List of all nodes: \", list(G2.nodes()))\n",
        "  print(\"List of all edges: \", list(G2.edges()))\n",
        "  print(\"In-degree for all nodes: \", dict(G2.in_degree()))  \n",
        "  print(\"Out degree for all nodes: \", dict(G2.out_degree))\n",
        "  #print(\"Max In Degree Node: \", max(zip(dict(G2.in_degree()).values(), dict(G2.in_degree()).keys()))[1])\n",
        "  #print(\"Min In Degree Node: \", min(zip(dict(G2.in_degree()).values(), dict(G2.in_degree()).keys()))[1])\n",
        "  #print(\"Max Out Degree Node: \", max(zip(dict(G2.out_degree()).values(), dict(G2.out_degree()).keys()))[1])\n",
        "  #print(\"Min Out Degree Node: \", min(zip(dict(G2.out_degree()).values(), dict(G2.out_degree()).keys()))[1])\n",
        "  nx.draw_networkx(G2, with_labels = True)\n",
        "  plt.savefig(\"Directed_Graph.png\", format=\"PNG\")"
      ],
      "metadata": {
        "id": "DYfLj0yGrbVt"
      },
      "execution_count": 16,
      "outputs": []
    },
    {
      "cell_type": "code",
      "source": [
        "graph_built_directed(csvfile)"
      ],
      "metadata": {
        "colab": {
          "base_uri": "https://localhost:8080/",
          "height": 352
        },
        "id": "Q0vrN7mJrc6z",
        "outputId": "b3237d8f-fb67-49ce-ef7d-cef8cd037a36"
      },
      "execution_count": 17,
      "outputs": [
        {
          "output_type": "stream",
          "name": "stdout",
          "text": [
            "Total number of nodes:  10\n",
            "Total number of edges:  14\n",
            "List of all nodes:  [0, 1, 2, 8, 9, 4, 6, 3, 5, 7]\n",
            "List of all edges:  [(0, 1), (0, 2), (0, 8), (0, 9), (0, 4), (1, 6), (1, 3), (2, 6), (8, 7), (9, 5), (4, 5), (6, 5), (3, 5), (3, 7)]\n",
            "In-degree for all nodes:  {0: 0, 1: 1, 2: 1, 8: 1, 9: 1, 4: 1, 6: 2, 3: 1, 5: 4, 7: 2}\n",
            "Out degree for all nodes:  {0: 5, 1: 2, 2: 1, 8: 1, 9: 1, 4: 1, 6: 1, 3: 2, 5: 0, 7: 0}\n"
          ]
        },
        {
          "output_type": "display_data",
          "data": {
            "text/plain": [
              "<Figure size 432x288 with 1 Axes>"
            ],
            "image/png": "[encoded data removed]"
          },
          "metadata": {}
        }
      ]
    },
    {
      "cell_type": "markdown",
      "source": [
        "QUESTION 3"
      ],
      "metadata": {
        "id": "EBcDIj6nrjpM"
      }
    },
    {
      "cell_type": "code",
      "source": [
        "def undirected_Adj_matrix(G):\n",
        "  undirected_Adj_mat = nx.adjacency_matrix(G)\n",
        "  print(undirected_Adj_mat.todense())\n",
        "  udg_node = int(input(\"Enter Node: \"))\n",
        "  udg_sum = 0\n",
        "  for i in range(len(undirected_Adj_mat.todense()[udg_node])):\n",
        "    udg_sum = udg_sum +  int(undirected_Adj_mat.todense()[udg_node][i])\n",
        "  print(f\"Sum for Node {udg_node} is {udg_sum}\")"
      ],
      "metadata": {
        "id": "Sp91k2J0sIux"
      },
      "execution_count": 18,
      "outputs": []
    },
    {
      "cell_type": "code",
      "source": [
        "undirected_Adj_matrix(G)"
      ],
      "metadata": {
        "colab": {
          "base_uri": "https://localhost:8080/"
        },
        "id": "j92x3FKvsMwD",
        "outputId": "faedc3f4-63dc-45a9-d4e1-a4b0dc5b0918"
      },
      "execution_count": 19,
      "outputs": [
        {
          "output_type": "stream",
          "name": "stdout",
          "text": [
            "[[0 5 6 7 2 5 0 0 0 0]\n",
            " [5 0 0 0 0 0 6 3 0 0]\n",
            " [6 0 0 0 0 0 4 0 0 0]\n",
            " [7 0 0 0 0 0 0 0 0 5]\n",
            " [2 0 0 0 0 0 0 0 2 0]\n",
            " [5 0 0 0 0 0 0 0 2 0]\n",
            " [0 6 4 0 0 0 0 0 1 0]\n",
            " [0 3 0 0 0 0 0 0 3 3]\n",
            " [0 0 0 0 2 2 1 3 0 0]\n",
            " [0 0 0 5 0 0 0 3 0 0]]\n",
            "Enter Node: 5\n",
            "Sum for Node 5 is 7\n"
          ]
        }
      ]
    },
    {
      "cell_type": "code",
      "source": [
        "def directed_Adj_matrix(G):\n",
        "  directed_Adj_mat = nx.adjacency_matrix(G2)\n",
        "  print(directed_Adj_mat.todense())\n",
        "\n",
        "  dg_node = int(input(\"Enter Node: \"))\n",
        "\n",
        "  dg_sum = 0\n",
        "  for i in range(len(directed_Adj_mat.todense()[dg_node])):\n",
        "    dg_sum = dg_sum +  int(directed_Adj_mat.todense()[dg_node][i])\n",
        "\n",
        "  for i in range(len(directed_Adj_mat.todense()[dg_node])):\n",
        "    dg_sum = dg_sum +  int(directed_Adj_mat.todense()[i][dg_node])\n",
        "   \n",
        "  print(f\"Sum for Node {dg_node} is {dg_sum}\")"
      ],
      "metadata": {
        "id": "gxrc4u-esRB7"
      },
      "execution_count": 20,
      "outputs": []
    },
    {
      "cell_type": "code",
      "source": [
        "directed_Adj_matrix(G2)"
      ],
      "metadata": {
        "colab": {
          "base_uri": "https://localhost:8080/"
        },
        "id": "b0rKuHuYsUGL",
        "outputId": "9a66b512-446e-40bd-937b-273135a340e6"
      },
      "execution_count": 21,
      "outputs": [
        {
          "output_type": "stream",
          "name": "stdout",
          "text": [
            "[[0 1 1 1 1 1 0 0 0 0]\n",
            " [0 0 0 0 0 0 1 1 0 0]\n",
            " [0 0 0 0 0 0 1 0 0 0]\n",
            " [0 0 0 0 0 0 0 0 0 1]\n",
            " [0 0 0 0 0 0 0 0 1 0]\n",
            " [0 0 0 0 0 0 0 0 1 0]\n",
            " [0 0 0 0 0 0 0 0 1 0]\n",
            " [0 0 0 0 0 0 0 0 1 1]\n",
            " [0 0 0 0 0 0 0 0 0 0]\n",
            " [0 0 0 0 0 0 0 0 0 0]]\n",
            "Enter Node: 5\n",
            "Sum for Node 5 is 2\n"
          ]
        }
      ]
    },
    {
      "cell_type": "markdown",
      "source": [
        "QUESTION 4"
      ],
      "metadata": {
        "id": "HXSidiQxsdMB"
      }
    },
    {
      "cell_type": "code",
      "source": [
        "def dict_round(s_r_dict):\n",
        "  s_r_dict = dict(sorted(s_r_dict.items()))\n",
        "  for key in s_r_dict:\n",
        "    s_r_dict[key] = round(s_r_dict[key], 2)\n",
        "  return s_r_dict"
      ],
      "metadata": {
        "id": "B8MyiXsPsgNl"
      },
      "execution_count": 22,
      "outputs": []
    },
    {
      "cell_type": "markdown",
      "source": [
        "UNDIRECTED GRAPH"
      ],
      "metadata": {
        "id": "xkHZFxFIskNY"
      }
    },
    {
      "cell_type": "code",
      "source": [
        "deg_centrality = nx.degree_centrality(G)\n",
        "print(deg_centrality)\n",
        "udg_deg_centrality = dict_round(deg_centrality)\n",
        "print(udg_deg_centrality)"
      ],
      "metadata": {
        "colab": {
          "base_uri": "https://localhost:8080/"
        },
        "id": "IFhKoeWesjzC",
        "outputId": "44d2ec72-3a85-45d9-9bee-0ae83316545b"
      },
      "execution_count": 23,
      "outputs": [
        {
          "output_type": "stream",
          "name": "stdout",
          "text": [
            "{0: 0.5555555555555556, 1: 0.3333333333333333, 2: 0.2222222222222222, 8: 0.2222222222222222, 9: 0.2222222222222222, 4: 0.2222222222222222, 6: 0.3333333333333333, 3: 0.3333333333333333, 5: 0.4444444444444444, 7: 0.2222222222222222}\n",
            "{0: 0.56, 1: 0.33, 2: 0.22, 3: 0.33, 4: 0.22, 5: 0.44, 6: 0.33, 7: 0.22, 8: 0.22, 9: 0.22}\n"
          ]
        }
      ]
    },
    {
      "cell_type": "code",
      "source": [
        "closeness_centrality = nx.closeness_centrality(G)\n",
        "print(closeness_centrality)\n",
        "udg_closeness_centrality = dict_round(closeness_centrality)\n",
        "print(udg_closeness_centrality)"
      ],
      "metadata": {
        "colab": {
          "base_uri": "https://localhost:8080/"
        },
        "id": "PFJb9bsBsshE",
        "outputId": "9c29cb7a-df16-4c9e-dddd-066af31a3300"
      },
      "execution_count": 24,
      "outputs": [
        {
          "output_type": "stream",
          "name": "stdout",
          "text": [
            "{0: 0.6923076923076923, 1: 0.6, 2: 0.5, 8: 0.5, 9: 0.5294117647058824, 4: 0.5294117647058824, 6: 0.5294117647058824, 3: 0.5625, 5: 0.6, 7: 0.45}\n",
            "{0: 0.69, 1: 0.6, 2: 0.5, 3: 0.56, 4: 0.53, 5: 0.6, 6: 0.53, 7: 0.45, 8: 0.5, 9: 0.53}\n"
          ]
        }
      ]
    },
    {
      "cell_type": "code",
      "source": [
        "betweeness_centrality = nx.closeness_centrality(G)\n",
        "print(betweeness_centrality)\n",
        "udg_betweeness_centrality = dict_round(betweeness_centrality)\n",
        "print(udg_betweeness_centrality)"
      ],
      "metadata": {
        "colab": {
          "base_uri": "https://localhost:8080/"
        },
        "id": "p882-fu1svTr",
        "outputId": "221ed393-27b1-4e22-ca2e-0a2791b8dcee"
      },
      "execution_count": 25,
      "outputs": [
        {
          "output_type": "stream",
          "name": "stdout",
          "text": [
            "{0: 0.6923076923076923, 1: 0.6, 2: 0.5, 8: 0.5, 9: 0.5294117647058824, 4: 0.5294117647058824, 6: 0.5294117647058824, 3: 0.5625, 5: 0.6, 7: 0.45}\n",
            "{0: 0.69, 1: 0.6, 2: 0.5, 3: 0.56, 4: 0.53, 5: 0.6, 6: 0.53, 7: 0.45, 8: 0.5, 9: 0.53}\n"
          ]
        }
      ]
    },
    {
      "cell_type": "code",
      "source": [
        "eigen_vector_centrality = nx.eigenvector_centrality(G)\n",
        "print(eigen_vector_centrality)\n",
        "udg_eigen_vector_centrality = dict_round(eigen_vector_centrality)\n",
        "print(udg_eigen_vector_centrality)"
      ],
      "metadata": {
        "colab": {
          "base_uri": "https://localhost:8080/"
        },
        "id": "r90aHmkKszyn",
        "outputId": "46a77457-3aff-4279-9abe-d0053b8f8e7e"
      },
      "execution_count": 26,
      "outputs": [
        {
          "output_type": "stream",
          "name": "stdout",
          "text": [
            "{0: 0.4581080665052624, 1: 0.3616070268966694, 2: 0.261255961970838, 8: 0.20621810826695997, 9: 0.28117747107337754, 4: 0.28117747107337754, 6: 0.3354201240066387, 3: 0.3047995658040378, 5: 0.3959281707273909, 7: 0.16824589118998698}\n",
            "{0: 0.46, 1: 0.36, 2: 0.26, 3: 0.3, 4: 0.28, 5: 0.4, 6: 0.34, 7: 0.17, 8: 0.21, 9: 0.28}\n"
          ]
        }
      ]
    },
    {
      "cell_type": "code",
      "source": [
        "udf = pd.DataFrame.from_dict(udg_deg_centrality,orient='index',columns=['Degree_Centrality'])\n",
        "udf = udf.assign(Closeness_Centrality= udg_closeness_centrality.values())\n",
        "udf = udf.assign(Betweeness_Centrality= udg_betweeness_centrality.values())\n",
        "udf = udf.assign(Eigen_Vector_Centrality= udg_eigen_vector_centrality.values())"
      ],
      "metadata": {
        "id": "bqKE5fxQsznn"
      },
      "execution_count": 27,
      "outputs": []
    },
    {
      "cell_type": "code",
      "source": [
        "udf"
      ],
      "metadata": {
        "colab": {
          "base_uri": "https://localhost:8080/",
          "height": 363
        },
        "id": "xl1SJafjs37q",
        "outputId": "e86383d7-2320-4b05-95da-59f275fe518e"
      },
      "execution_count": 28,
      "outputs": [
        {
          "output_type": "execute_result",
          "data": {
            "text/plain": [
              "   Degree_Centrality  Closeness_Centrality  Betweeness_Centrality  \\\n",
              "0               0.56                  0.69                   0.69   \n",
              "1               0.33                  0.60                   0.60   \n",
              "2               0.22                  0.50                   0.50   \n",
              "3               0.33                  0.56                   0.56   \n",
              "4               0.22                  0.53                   0.53   \n",
              "5               0.44                  0.60                   0.60   \n",
              "6               0.33                  0.53                   0.53   \n",
              "7               0.22                  0.45                   0.45   \n",
              "8               0.22                  0.50                   0.50   \n",
              "9               0.22                  0.53                   0.53   \n",
              "\n",
              "   Eigen_Vector_Centrality  \n",
              "0                     0.46  \n",
              "1                     0.36  \n",
              "2                     0.26  \n",
              "3                     0.30  \n",
              "4                     0.28  \n",
              "5                     0.40  \n",
              "6                     0.34  \n",
              "7                     0.17  \n",
              "8                     0.21  \n",
              "9                     0.28  "
            ],
            "text/html": [
              "\n",
              "  <div id=\"df-b77abdd3-8d90-4ba3-93b6-6fd6496f2f88\">\n",
              "    <div class=\"colab-df-container\">\n",
              "      <div>\n",
              "<style scoped>\n",
              "    .dataframe tbody tr th:only-of-type {\n",
              "        vertical-align: middle;\n",
              "    }\n",
              "\n",
              "    .dataframe tbody tr th {\n",
              "        vertical-align: top;\n",
              "    }\n",
              "\n",
              "    .dataframe thead th {\n",
              "        text-align: right;\n",
              "    }\n",
              "</style>\n",
              "<table border=\"1\" class=\"dataframe\">\n",
              "  <thead>\n",
              "    <tr style=\"text-align: right;\">\n",
              "      <th></th>\n",
              "      <th>Degree_Centrality</th>\n",
              "      <th>Closeness_Centrality</th>\n",
              "      <th>Betweeness_Centrality</th>\n",
              "      <th>Eigen_Vector_Centrality</th>\n",
              "    </tr>\n",
              "  </thead>\n",
              "  <tbody>\n",
              "    <tr>\n",
              "      <th>0</th>\n",
              "      <td>0.56</td>\n",
              "      <td>0.69</td>\n",
              "      <td>0.69</td>\n",
              "      <td>0.46</td>\n",
              "    </tr>\n",
              "    <tr>\n",
              "      <th>1</th>\n",
              "      <td>0.33</td>\n",
              "      <td>0.60</td>\n",
              "      <td>0.60</td>\n",
              "      <td>0.36</td>\n",
              "    </tr>\n",
              "    <tr>\n",
              "      <th>2</th>\n",
              "      <td>0.22</td>\n",
              "      <td>0.50</td>\n",
              "      <td>0.50</td>\n",
              "      <td>0.26</td>\n",
              "    </tr>\n",
              "    <tr>\n",
              "      <th>3</th>\n",
              "      <td>0.33</td>\n",
              "      <td>0.56</td>\n",
              "      <td>0.56</td>\n",
              "      <td>0.30</td>\n",
              "    </tr>\n",
              "    <tr>\n",
              "      <th>4</th>\n",
              "      <td>0.22</td>\n",
              "      <td>0.53</td>\n",
              "      <td>0.53</td>\n",
              "      <td>0.28</td>\n",
              "    </tr>\n",
              "    <tr>\n",
              "      <th>5</th>\n",
              "      <td>0.44</td>\n",
              "      <td>0.60</td>\n",
              "      <td>0.60</td>\n",
              "      <td>0.40</td>\n",
              "    </tr>\n",
              "    <tr>\n",
              "      <th>6</th>\n",
              "      <td>0.33</td>\n",
              "      <td>0.53</td>\n",
              "      <td>0.53</td>\n",
              "      <td>0.34</td>\n",
              "    </tr>\n",
              "    <tr>\n",
              "      <th>7</th>\n",
              "      <td>0.22</td>\n",
              "      <td>0.45</td>\n",
              "      <td>0.45</td>\n",
              "      <td>0.17</td>\n",
              "    </tr>\n",
              "    <tr>\n",
              "      <th>8</th>\n",
              "      <td>0.22</td>\n",
              "      <td>0.50</td>\n",
              "      <td>0.50</td>\n",
              "      <td>0.21</td>\n",
              "    </tr>\n",
              "    <tr>\n",
              "      <th>9</th>\n",
              "      <td>0.22</td>\n",
              "      <td>0.53</td>\n",
              "      <td>0.53</td>\n",
              "      <td>0.28</td>\n",
              "    </tr>\n",
              "  </tbody>\n",
              "</table>\n",
              "</div>\n",
              "      <button class=\"colab-df-convert\" onclick=\"convertToInteractive('df-b77abdd3-8d90-4ba3-93b6-6fd6496f2f88')\"\n",
              "              title=\"Convert this dataframe to an interactive table.\"\n",
              "              style=\"display:none;\">\n",
              "        \n",
              "  <svg xmlns=\"http://www.w3.org/2000/svg\" height=\"24px\"viewBox=\"0 0 24 24\"\n",
              "       width=\"24px\">\n",
              "    <path d=\"M0 0h24v24H0V0z\" fill=\"none\"/>\n",
              "    <path d=\"M18.56 5.44l.94 2.06.94-2.06 2.06-.94-2.06-.94-.94-2.06-.94 2.06-2.06.94zm-11 1L8.5 8.5l.94-2.06 2.06-.94-2.06-.94L8.5 2.5l-.94 2.06-2.06.94zm10 10l.94 2.06.94-2.06 2.06-.94-2.06-.94-.94-2.06-.94 2.06-2.06.94z\"/><path d=\"M17.41 7.96l-1.37-1.37c-.4-.4-.92-.59-1.43-.59-.52 0-1.04.2-1.43.59L10.3 9.45l-7.72 7.72c-.78.78-.78 2.05 0 2.83L4 21.41c.39.39.9.59 1.41.59.51 0 1.02-.2 1.41-.59l7.78-7.78 2.81-2.81c.8-.78.8-2.07 0-2.86zM5.41 20L4 18.59l7.72-7.72 1.47 1.35L5.41 20z\"/>\n",
              "  </svg>\n",
              "      </button>\n",
              "      \n",
              "  <style>\n",
              "    .colab-df-container {\n",
              "      display:flex;\n",
              "      flex-wrap:wrap;\n",
              "      gap: 12px;\n",
              "    }\n",
              "\n",
              "    .colab-df-convert {\n",
              "      background-color: #E8F0FE;\n",
              "      border: none;\n",
              "      border-radius: 50%;\n",
              "      cursor: pointer;\n",
              "      display: none;\n",
              "      fill: #1967D2;\n",
              "      height: 32px;\n",
              "      padding: 0 0 0 0;\n",
              "      width: 32px;\n",
              "    }\n",
              "\n",
              "    .colab-df-convert:hover {\n",
              "      background-color: #E2EBFA;\n",
              "      box-shadow: 0px 1px 2px rgba(60, 64, 67, 0.3), 0px 1px 3px 1px rgba(60, 64, 67, 0.15);\n",
              "      fill: #174EA6;\n",
              "    }\n",
              "\n",
              "    [theme=dark] .colab-df-convert {\n",
              "      background-color: #3B4455;\n",
              "      fill: #D2E3FC;\n",
              "    }\n",
              "\n",
              "    [theme=dark] .colab-df-convert:hover {\n",
              "      background-color: #434B5C;\n",
              "      box-shadow: 0px 1px 3px 1px rgba(0, 0, 0, 0.15);\n",
              "      filter: drop-shadow(0px 1px 2px rgba(0, 0, 0, 0.3));\n",
              "      fill: #FFFFFF;\n",
              "    }\n",
              "  </style>\n",
              "\n",
              "      <script>\n",
              "        const buttonEl =\n",
              "          document.querySelector('#df-b77abdd3-8d90-4ba3-93b6-6fd6496f2f88 button.colab-df-convert');\n",
              "        buttonEl.style.display =\n",
              "          google.colab.kernel.accessAllowed ? 'block' : 'none';\n",
              "\n",
              "        async function convertToInteractive(key) {\n",
              "          const element = document.querySelector('#df-b77abdd3-8d90-4ba3-93b6-6fd6496f2f88');\n",
              "          const dataTable =\n",
              "            await google.colab.kernel.invokeFunction('convertToInteractive',\n",
              "                                                     [key], {});\n",
              "          if (!dataTable) return;\n",
              "\n",
              "          const docLinkHtml = 'Like what you see? Visit the ' +\n",
              "            '<a target=\"_blank\" href=https://colab.research.google.com/notebooks/data_table.ipynb>data table notebook</a>'\n",
              "            + ' to learn more about interactive tables.';\n",
              "          element.innerHTML = '';\n",
              "          dataTable['output_type'] = 'display_data';\n",
              "          await google.colab.output.renderOutput(dataTable, element);\n",
              "          const docLink = document.createElement('div');\n",
              "          docLink.innerHTML = docLinkHtml;\n",
              "          element.appendChild(docLink);\n",
              "        }\n",
              "      </script>\n",
              "    </div>\n",
              "  </div>\n",
              "  "
            ]
          },
          "metadata": {},
          "execution_count": 28
        }
      ]
    },
    {
      "cell_type": "code",
      "source": [
        "udf.to_csv('All Centality Degrees (Undirected Graph).csv')"
      ],
      "metadata": {
        "id": "Dcojgw5Ls7CX"
      },
      "execution_count": 29,
      "outputs": []
    },
    {
      "cell_type": "code",
      "source": [
        "def find_node_min_centarlity(udf,cent_name):\n",
        "  min = 100\n",
        "  node_min = -1\n",
        "  for i in range(len(udf)):\n",
        "    if udf[cent_name][i] < min:\n",
        "      min =  udf[cent_name][i]\n",
        "      node_min = i\n",
        "  return node_min,min\n",
        "\n",
        "def find_node_max_centarlity(udf,cent_name):\n",
        "  max = 0\n",
        "  node_max = -1\n",
        "  for i in range(len(udf)):\n",
        "    if udf[cent_name][i] > max:\n",
        "      max =  udf[cent_name][i]\n",
        "      node_max = i\n",
        "  return node_max,max"
      ],
      "metadata": {
        "id": "sD-bT_Ggs92B"
      },
      "execution_count": 30,
      "outputs": []
    },
    {
      "cell_type": "code",
      "source": [
        "node_min,min = find_node_min_centarlity(udf,'Degree_Centrality')\n",
        "node_max,max = find_node_max_centarlity(udf,'Degree_Centrality')\n",
        "print(node_min,min)\n",
        "print(node_max,max)\n",
        "degree_cent_min_max = {'Min Degree Node':str(node_min),'Value C1':min,'Max Degree Node':str(node_max),'Value C2':max}"
      ],
      "metadata": {
        "colab": {
          "base_uri": "https://localhost:8080/"
        },
        "id": "aT4Wd9oFtA1N",
        "outputId": "fddf3451-f7cc-43a0-b1d0-d308bcb3e094"
      },
      "execution_count": 31,
      "outputs": [
        {
          "output_type": "stream",
          "name": "stdout",
          "text": [
            "2 0.22\n",
            "0 0.56\n"
          ]
        }
      ]
    },
    {
      "cell_type": "code",
      "source": [
        "node_min,min = find_node_min_centarlity(udf,'Closeness_Centrality')\n",
        "node_max,max = find_node_max_centarlity(udf,'Closeness_Centrality')\n",
        "print(node_min,min)\n",
        "print(node_max,max)\n",
        "closeness_cent_min_max = {'Min Degree Node':str(node_min),'Value C1':min,'Max Degree Node':str(node_max),'Value C2':max}"
      ],
      "metadata": {
        "colab": {
          "base_uri": "https://localhost:8080/"
        },
        "id": "O4uDJBIVtED-",
        "outputId": "a099875b-4535-46a4-97be-9d7df438b1a5"
      },
      "execution_count": 32,
      "outputs": [
        {
          "output_type": "stream",
          "name": "stdout",
          "text": [
            "7 0.45\n",
            "0 0.69\n"
          ]
        }
      ]
    },
    {
      "cell_type": "code",
      "source": [
        "node_min,min = find_node_min_centarlity(udf,'Betweeness_Centrality')\n",
        "node_max,max = find_node_max_centarlity(udf,'Betweeness_Centrality')\n",
        "print(node_min,min)\n",
        "print(node_max,max)\n",
        "betweeness_cent_min_max = {'Min Degree Node':str(node_min),'Value C1':min,'Max Degree Node':str(node_max),'Value C2':max}"
      ],
      "metadata": {
        "colab": {
          "base_uri": "https://localhost:8080/"
        },
        "id": "ivY7pM2StGsr",
        "outputId": "ed42524e-d140-408f-8e84-6d812595e86d"
      },
      "execution_count": 33,
      "outputs": [
        {
          "output_type": "stream",
          "name": "stdout",
          "text": [
            "7 0.45\n",
            "0 0.69\n"
          ]
        }
      ]
    },
    {
      "cell_type": "code",
      "source": [
        "node_min,min = find_node_min_centarlity(udf,'Eigen_Vector_Centrality')\n",
        "node_max,max = find_node_max_centarlity(udf,'Eigen_Vector_Centrality')\n",
        "print(node_min,min)\n",
        "print(node_max,max)\n",
        "eigen_vector_cent_min_max = {'Min Degree Node':str(node_min),'Value C1':min,'Max Degree Node':str(node_max),'Value C2':max}"
      ],
      "metadata": {
        "colab": {
          "base_uri": "https://localhost:8080/"
        },
        "id": "GDRSE58ltJXB",
        "outputId": "b6731c68-5a26-4a7d-ff94-973c24b8e139"
      },
      "execution_count": 34,
      "outputs": [
        {
          "output_type": "stream",
          "name": "stdout",
          "text": [
            "7 0.17\n",
            "0 0.46\n"
          ]
        }
      ]
    },
    {
      "cell_type": "code",
      "source": [
        "udf_min_max = pd.DataFrame(columns=['Min Degree Node','Value C1','Max Degree Node','Value C2'])\n",
        "\n",
        "udf_min_max"
      ],
      "metadata": {
        "colab": {
          "base_uri": "https://localhost:8080/",
          "height": 49
        },
        "id": "XyAIpyButNdh",
        "outputId": "280e6eff-249c-42e1-f3b0-562a045b5701"
      },
      "execution_count": 35,
      "outputs": [
        {
          "output_type": "execute_result",
          "data": {
            "text/plain": [
              "Empty DataFrame\n",
              "Columns: [Min Degree Node, Value C1, Max Degree Node, Value C2]\n",
              "Index: []"
            ],
            "text/html": [
              "\n",
              "  <div id=\"df-ee01fa43-04a5-4624-9eac-927e0fc6dd78\">\n",
              "    <div class=\"colab-df-container\">\n",
              "      <div>\n",
              "<style scoped>\n",
              "    .dataframe tbody tr th:only-of-type {\n",
              "        vertical-align: middle;\n",
              "    }\n",
              "\n",
              "    .dataframe tbody tr th {\n",
              "        vertical-align: top;\n",
              "    }\n",
              "\n",
              "    .dataframe thead th {\n",
              "        text-align: right;\n",
              "    }\n",
              "</style>\n",
              "<table border=\"1\" class=\"dataframe\">\n",
              "  <thead>\n",
              "    <tr style=\"text-align: right;\">\n",
              "      <th></th>\n",
              "      <th>Min Degree Node</th>\n",
              "      <th>Value C1</th>\n",
              "      <th>Max Degree Node</th>\n",
              "      <th>Value C2</th>\n",
              "    </tr>\n",
              "  </thead>\n",
              "  <tbody>\n",
              "  </tbody>\n",
              "</table>\n",
              "</div>\n",
              "      <button class=\"colab-df-convert\" onclick=\"convertToInteractive('df-ee01fa43-04a5-4624-9eac-927e0fc6dd78')\"\n",
              "              title=\"Convert this dataframe to an interactive table.\"\n",
              "              style=\"display:none;\">\n",
              "        \n",
              "  <svg xmlns=\"http://www.w3.org/2000/svg\" height=\"24px\"viewBox=\"0 0 24 24\"\n",
              "       width=\"24px\">\n",
              "    <path d=\"M0 0h24v24H0V0z\" fill=\"none\"/>\n",
              "    <path d=\"M18.56 5.44l.94 2.06.94-2.06 2.06-.94-2.06-.94-.94-2.06-.94 2.06-2.06.94zm-11 1L8.5 8.5l.94-2.06 2.06-.94-2.06-.94L8.5 2.5l-.94 2.06-2.06.94zm10 10l.94 2.06.94-2.06 2.06-.94-2.06-.94-.94-2.06-.94 2.06-2.06.94z\"/><path d=\"M17.41 7.96l-1.37-1.37c-.4-.4-.92-.59-1.43-.59-.52 0-1.04.2-1.43.59L10.3 9.45l-7.72 7.72c-.78.78-.78 2.05 0 2.83L4 21.41c.39.39.9.59 1.41.59.51 0 1.02-.2 1.41-.59l7.78-7.78 2.81-2.81c.8-.78.8-2.07 0-2.86zM5.41 20L4 18.59l7.72-7.72 1.47 1.35L5.41 20z\"/>\n",
              "  </svg>\n",
              "      </button>\n",
              "      \n",
              "  <style>\n",
              "    .colab-df-container {\n",
              "      display:flex;\n",
              "      flex-wrap:wrap;\n",
              "      gap: 12px;\n",
              "    }\n",
              "\n",
              "    .colab-df-convert {\n",
              "      background-color: #E8F0FE;\n",
              "      border: none;\n",
              "      border-radius: 50%;\n",
              "      cursor: pointer;\n",
              "      display: none;\n",
              "      fill: #1967D2;\n",
              "      height: 32px;\n",
              "      padding: 0 0 0 0;\n",
              "      width: 32px;\n",
              "    }\n",
              "\n",
              "    .colab-df-convert:hover {\n",
              "      background-color: #E2EBFA;\n",
              "      box-shadow: 0px 1px 2px rgba(60, 64, 67, 0.3), 0px 1px 3px 1px rgba(60, 64, 67, 0.15);\n",
              "      fill: #174EA6;\n",
              "    }\n",
              "\n",
              "    [theme=dark] .colab-df-convert {\n",
              "      background-color: #3B4455;\n",
              "      fill: #D2E3FC;\n",
              "    }\n",
              "\n",
              "    [theme=dark] .colab-df-convert:hover {\n",
              "      background-color: #434B5C;\n",
              "      box-shadow: 0px 1px 3px 1px rgba(0, 0, 0, 0.15);\n",
              "      filter: drop-shadow(0px 1px 2px rgba(0, 0, 0, 0.3));\n",
              "      fill: #FFFFFF;\n",
              "    }\n",
              "  </style>\n",
              "\n",
              "      <script>\n",
              "        const buttonEl =\n",
              "          document.querySelector('#df-ee01fa43-04a5-4624-9eac-927e0fc6dd78 button.colab-df-convert');\n",
              "        buttonEl.style.display =\n",
              "          google.colab.kernel.accessAllowed ? 'block' : 'none';\n",
              "\n",
              "        async function convertToInteractive(key) {\n",
              "          const element = document.querySelector('#df-ee01fa43-04a5-4624-9eac-927e0fc6dd78');\n",
              "          const dataTable =\n",
              "            await google.colab.kernel.invokeFunction('convertToInteractive',\n",
              "                                                     [key], {});\n",
              "          if (!dataTable) return;\n",
              "\n",
              "          const docLinkHtml = 'Like what you see? Visit the ' +\n",
              "            '<a target=\"_blank\" href=https://colab.research.google.com/notebooks/data_table.ipynb>data table notebook</a>'\n",
              "            + ' to learn more about interactive tables.';\n",
              "          element.innerHTML = '';\n",
              "          dataTable['output_type'] = 'display_data';\n",
              "          await google.colab.output.renderOutput(dataTable, element);\n",
              "          const docLink = document.createElement('div');\n",
              "          docLink.innerHTML = docLinkHtml;\n",
              "          element.appendChild(docLink);\n",
              "        }\n",
              "      </script>\n",
              "    </div>\n",
              "  </div>\n",
              "  "
            ]
          },
          "metadata": {},
          "execution_count": 35
        }
      ]
    },
    {
      "cell_type": "code",
      "source": [
        "udf_min_max = udf_min_max.append(pd.Series(degree_cent_min_max,index = udf_min_max.columns,name = 'Degree Centrality'))\n",
        "udf_min_max = udf_min_max.append(pd.Series(closeness_cent_min_max,index = udf_min_max.columns,name = 'Closeness Centrality'))\n",
        "udf_min_max = udf_min_max.append(pd.Series(betweeness_cent_min_max,index = udf_min_max.columns,name = 'Betweeness Centrality'))\n",
        "udf_min_max = udf_min_max.append(pd.Series(eigen_vector_cent_min_max,index = udf_min_max.columns,name = 'Eigen Vector Centrality'))\n",
        "udf_min_max"
      ],
      "metadata": {
        "colab": {
          "base_uri": "https://localhost:8080/",
          "height": 313
        },
        "id": "xm34vn5ftQct",
        "outputId": "7492450f-ae08-4674-f77a-449c74f962c9"
      },
      "execution_count": 36,
      "outputs": [
        {
          "output_type": "stream",
          "name": "stderr",
          "text": [
            "<ipython-input-36-f63f0aa390aa>:1: FutureWarning: The frame.append method is deprecated and will be removed from pandas in a future version. Use pandas.concat instead.\n",
            "  udf_min_max = udf_min_max.append(pd.Series(degree_cent_min_max,index = udf_min_max.columns,name = 'Degree Centrality'))\n",
            "<ipython-input-36-f63f0aa390aa>:2: FutureWarning: The frame.append method is deprecated and will be removed from pandas in a future version. Use pandas.concat instead.\n",
            "  udf_min_max = udf_min_max.append(pd.Series(closeness_cent_min_max,index = udf_min_max.columns,name = 'Closeness Centrality'))\n",
            "<ipython-input-36-f63f0aa390aa>:3: FutureWarning: The frame.append method is deprecated and will be removed from pandas in a future version. Use pandas.concat instead.\n",
            "  udf_min_max = udf_min_max.append(pd.Series(betweeness_cent_min_max,index = udf_min_max.columns,name = 'Betweeness Centrality'))\n",
            "<ipython-input-36-f63f0aa390aa>:4: FutureWarning: The frame.append method is deprecated and will be removed from pandas in a future version. Use pandas.concat instead.\n",
            "  udf_min_max = udf_min_max.append(pd.Series(eigen_vector_cent_min_max,index = udf_min_max.columns,name = 'Eigen Vector Centrality'))\n"
          ]
        },
        {
          "output_type": "execute_result",
          "data": {
            "text/plain": [
              "                        Min Degree Node  Value C1 Max Degree Node  Value C2\n",
              "Degree Centrality                     2      0.22               0      0.56\n",
              "Closeness Centrality                  7      0.45               0      0.69\n",
              "Betweeness Centrality                 7      0.45               0      0.69\n",
              "Eigen Vector Centrality               7      0.17               0      0.46"
            ],
            "text/html": [
              "\n",
              "  <div id=\"df-285c24bf-f36c-4aaf-8aa2-142ca95a367c\">\n",
              "    <div class=\"colab-df-container\">\n",
              "      <div>\n",
              "<style scoped>\n",
              "    .dataframe tbody tr th:only-of-type {\n",
              "        vertical-align: middle;\n",
              "    }\n",
              "\n",
              "    .dataframe tbody tr th {\n",
              "        vertical-align: top;\n",
              "    }\n",
              "\n",
              "    .dataframe thead th {\n",
              "        text-align: right;\n",
              "    }\n",
              "</style>\n",
              "<table border=\"1\" class=\"dataframe\">\n",
              "  <thead>\n",
              "    <tr style=\"text-align: right;\">\n",
              "      <th></th>\n",
              "      <th>Min Degree Node</th>\n",
              "      <th>Value C1</th>\n",
              "      <th>Max Degree Node</th>\n",
              "      <th>Value C2</th>\n",
              "    </tr>\n",
              "  </thead>\n",
              "  <tbody>\n",
              "    <tr>\n",
              "      <th>Degree Centrality</th>\n",
              "      <td>2</td>\n",
              "      <td>0.22</td>\n",
              "      <td>0</td>\n",
              "      <td>0.56</td>\n",
              "    </tr>\n",
              "    <tr>\n",
              "      <th>Closeness Centrality</th>\n",
              "      <td>7</td>\n",
              "      <td>0.45</td>\n",
              "      <td>0</td>\n",
              "      <td>0.69</td>\n",
              "    </tr>\n",
              "    <tr>\n",
              "      <th>Betweeness Centrality</th>\n",
              "      <td>7</td>\n",
              "      <td>0.45</td>\n",
              "      <td>0</td>\n",
              "      <td>0.69</td>\n",
              "    </tr>\n",
              "    <tr>\n",
              "      <th>Eigen Vector Centrality</th>\n",
              "      <td>7</td>\n",
              "      <td>0.17</td>\n",
              "      <td>0</td>\n",
              "      <td>0.46</td>\n",
              "    </tr>\n",
              "  </tbody>\n",
              "</table>\n",
              "</div>\n",
              "      <button class=\"colab-df-convert\" onclick=\"convertToInteractive('df-285c24bf-f36c-4aaf-8aa2-142ca95a367c')\"\n",
              "              title=\"Convert this dataframe to an interactive table.\"\n",
              "              style=\"display:none;\">\n",
              "        \n",
              "  <svg xmlns=\"http://www.w3.org/2000/svg\" height=\"24px\"viewBox=\"0 0 24 24\"\n",
              "       width=\"24px\">\n",
              "    <path d=\"M0 0h24v24H0V0z\" fill=\"none\"/>\n",
              "    <path d=\"M18.56 5.44l.94 2.06.94-2.06 2.06-.94-2.06-.94-.94-2.06-.94 2.06-2.06.94zm-11 1L8.5 8.5l.94-2.06 2.06-.94-2.06-.94L8.5 2.5l-.94 2.06-2.06.94zm10 10l.94 2.06.94-2.06 2.06-.94-2.06-.94-.94-2.06-.94 2.06-2.06.94z\"/><path d=\"M17.41 7.96l-1.37-1.37c-.4-.4-.92-.59-1.43-.59-.52 0-1.04.2-1.43.59L10.3 9.45l-7.72 7.72c-.78.78-.78 2.05 0 2.83L4 21.41c.39.39.9.59 1.41.59.51 0 1.02-.2 1.41-.59l7.78-7.78 2.81-2.81c.8-.78.8-2.07 0-2.86zM5.41 20L4 18.59l7.72-7.72 1.47 1.35L5.41 20z\"/>\n",
              "  </svg>\n",
              "      </button>\n",
              "      \n",
              "  <style>\n",
              "    .colab-df-container {\n",
              "      display:flex;\n",
              "      flex-wrap:wrap;\n",
              "      gap: 12px;\n",
              "    }\n",
              "\n",
              "    .colab-df-convert {\n",
              "      background-color: #E8F0FE;\n",
              "      border: none;\n",
              "      border-radius: 50%;\n",
              "      cursor: pointer;\n",
              "      display: none;\n",
              "      fill: #1967D2;\n",
              "      height: 32px;\n",
              "      padding: 0 0 0 0;\n",
              "      width: 32px;\n",
              "    }\n",
              "\n",
              "    .colab-df-convert:hover {\n",
              "      background-color: #E2EBFA;\n",
              "      box-shadow: 0px 1px 2px rgba(60, 64, 67, 0.3), 0px 1px 3px 1px rgba(60, 64, 67, 0.15);\n",
              "      fill: #174EA6;\n",
              "    }\n",
              "\n",
              "    [theme=dark] .colab-df-convert {\n",
              "      background-color: #3B4455;\n",
              "      fill: #D2E3FC;\n",
              "    }\n",
              "\n",
              "    [theme=dark] .colab-df-convert:hover {\n",
              "      background-color: #434B5C;\n",
              "      box-shadow: 0px 1px 3px 1px rgba(0, 0, 0, 0.15);\n",
              "      filter: drop-shadow(0px 1px 2px rgba(0, 0, 0, 0.3));\n",
              "      fill: #FFFFFF;\n",
              "    }\n",
              "  </style>\n",
              "\n",
              "      <script>\n",
              "        const buttonEl =\n",
              "          document.querySelector('#df-285c24bf-f36c-4aaf-8aa2-142ca95a367c button.colab-df-convert');\n",
              "        buttonEl.style.display =\n",
              "          google.colab.kernel.accessAllowed ? 'block' : 'none';\n",
              "\n",
              "        async function convertToInteractive(key) {\n",
              "          const element = document.querySelector('#df-285c24bf-f36c-4aaf-8aa2-142ca95a367c');\n",
              "          const dataTable =\n",
              "            await google.colab.kernel.invokeFunction('convertToInteractive',\n",
              "                                                     [key], {});\n",
              "          if (!dataTable) return;\n",
              "\n",
              "          const docLinkHtml = 'Like what you see? Visit the ' +\n",
              "            '<a target=\"_blank\" href=https://colab.research.google.com/notebooks/data_table.ipynb>data table notebook</a>'\n",
              "            + ' to learn more about interactive tables.';\n",
              "          element.innerHTML = '';\n",
              "          dataTable['output_type'] = 'display_data';\n",
              "          await google.colab.output.renderOutput(dataTable, element);\n",
              "          const docLink = document.createElement('div');\n",
              "          docLink.innerHTML = docLinkHtml;\n",
              "          element.appendChild(docLink);\n",
              "        }\n",
              "      </script>\n",
              "    </div>\n",
              "  </div>\n",
              "  "
            ]
          },
          "metadata": {},
          "execution_count": 36
        }
      ]
    },
    {
      "cell_type": "code",
      "source": [
        "'''\n",
        "udf_min_max = udf_min_max.assign(index= udf.columns)\n",
        "udf_min_max = udf_min_max.set_index(udf_min_max['index'])\n",
        "udf_min_max.drop(columns=['index'])\n",
        "\n",
        "'''"
      ],
      "metadata": {
        "colab": {
          "base_uri": "https://localhost:8080/",
          "height": 36
        },
        "id": "G0UJhnZytXzt",
        "outputId": "79c6bd07-f8e0-46fa-b107-5e6e8e468f3c"
      },
      "execution_count": 37,
      "outputs": [
        {
          "output_type": "execute_result",
          "data": {
            "text/plain": [
              "\"\\nudf_min_max = udf_min_max.assign(index= udf.columns)\\nudf_min_max = udf_min_max.set_index(udf_min_max['index'])\\nudf_min_max.drop(columns=['index'])\\n\\n\""
            ],
            "application/vnd.google.colaboratory.intrinsic+json": {
              "type": "string"
            }
          },
          "metadata": {},
          "execution_count": 37
        }
      ]
    },
    {
      "cell_type": "markdown",
      "source": [
        "DIRECTED GRAPH"
      ],
      "metadata": {
        "id": "zRwVJNc4tbHW"
      }
    },
    {
      "cell_type": "code",
      "source": [
        "deg_centrality = nx.degree_centrality(G2)\n",
        "print(deg_centrality)\n",
        "dg_deg_centrality = dict_round(deg_centrality)\n",
        "print(dg_deg_centrality)"
      ],
      "metadata": {
        "colab": {
          "base_uri": "https://localhost:8080/"
        },
        "id": "UDXCVmoNtdBZ",
        "outputId": "88637483-d17f-4274-d361-fd62aa0cfe95"
      },
      "execution_count": 38,
      "outputs": [
        {
          "output_type": "stream",
          "name": "stdout",
          "text": [
            "{0: 0.5555555555555556, 1: 0.3333333333333333, 2: 0.2222222222222222, 8: 0.2222222222222222, 9: 0.2222222222222222, 4: 0.2222222222222222, 6: 0.3333333333333333, 3: 0.3333333333333333, 5: 0.4444444444444444, 7: 0.2222222222222222}\n",
            "{0: 0.56, 1: 0.33, 2: 0.22, 3: 0.33, 4: 0.22, 5: 0.44, 6: 0.33, 7: 0.22, 8: 0.22, 9: 0.22}\n"
          ]
        }
      ]
    },
    {
      "cell_type": "code",
      "source": [
        "closeness_centrality = nx.closeness_centrality(G2)\n",
        "print(closeness_centrality)\n",
        "dg_closeness_centrality = dict_round(closeness_centrality)\n",
        "print(dg_closeness_centrality)"
      ],
      "metadata": {
        "colab": {
          "base_uri": "https://localhost:8080/"
        },
        "id": "1Jjwu6-Btgm9",
        "outputId": "f4c74704-404d-4ff4-d0f1-3feff3fd4d8f"
      },
      "execution_count": 39,
      "outputs": [
        {
          "output_type": "stream",
          "name": "stdout",
          "text": [
            "{0: 0.0, 1: 0.1111111111111111, 2: 0.1111111111111111, 8: 0.1111111111111111, 9: 0.1111111111111111, 4: 0.1111111111111111, 6: 0.25, 3: 0.14814814814814814, 5: 0.5444444444444444, 7: 0.2962962962962963}\n",
            "{0: 0.0, 1: 0.11, 2: 0.11, 3: 0.15, 4: 0.11, 5: 0.54, 6: 0.25, 7: 0.3, 8: 0.11, 9: 0.11}\n"
          ]
        }
      ]
    },
    {
      "cell_type": "code",
      "source": [
        "betweeness_centrality = nx.closeness_centrality(G2)\n",
        "print(betweeness_centrality)\n",
        "dg_betweeness_centrality = dict_round(betweeness_centrality)\n",
        "print(dg_betweeness_centrality)"
      ],
      "metadata": {
        "colab": {
          "base_uri": "https://localhost:8080/"
        },
        "id": "_zxXqmMEti2k",
        "outputId": "a9414f32-4064-4bf2-a110-135ac112f362"
      },
      "execution_count": 40,
      "outputs": [
        {
          "output_type": "stream",
          "name": "stdout",
          "text": [
            "{0: 0.0, 1: 0.1111111111111111, 2: 0.1111111111111111, 8: 0.1111111111111111, 9: 0.1111111111111111, 4: 0.1111111111111111, 6: 0.25, 3: 0.14814814814814814, 5: 0.5444444444444444, 7: 0.2962962962962963}\n",
            "{0: 0.0, 1: 0.11, 2: 0.11, 3: 0.15, 4: 0.11, 5: 0.54, 6: 0.25, 7: 0.3, 8: 0.11, 9: 0.11}\n"
          ]
        }
      ]
    },
    {
      "cell_type": "code",
      "source": [
        "'''\n",
        "eigen_vector_centrality = nx.eigenvector_centrality(G2)\n",
        "print(eigen_vector_centrality)\n",
        "dg_eigen_vector_centrality = dict_round(eigen_vector_centrality)\n",
        "print(dg_eigen_vector_centrality)\n",
        "\n",
        "'''"
      ],
      "metadata": {
        "colab": {
          "base_uri": "https://localhost:8080/",
          "height": 53
        },
        "id": "vUkbVjp6tk9f",
        "outputId": "de669454-52e9-40da-a27f-71927a3d8f91"
      },
      "execution_count": 41,
      "outputs": [
        {
          "output_type": "execute_result",
          "data": {
            "text/plain": [
              "'\\neigen_vector_centrality = nx.eigenvector_centrality(G2)\\nprint(eigen_vector_centrality)\\ndg_eigen_vector_centrality = dict_round(eigen_vector_centrality)\\nprint(dg_eigen_vector_centrality)\\n\\n'"
            ],
            "application/vnd.google.colaboratory.intrinsic+json": {
              "type": "string"
            }
          },
          "metadata": {},
          "execution_count": 41
        }
      ]
    },
    {
      "cell_type": "code",
      "source": [
        "ddf = pd.DataFrame.from_dict(dg_deg_centrality,orient='index',columns=['Degree_Centrality'])\n",
        "ddf = ddf.assign(Closeness_Centrality= dg_closeness_centrality.values())\n",
        "ddf = ddf.assign(Betweeness_Centrality= dg_betweeness_centrality.values())\n",
        "#ddf = ddf.assign(Eigen_Vector_Centrality= dg_eigen_vector_centrality.values())\n",
        "ddf"
      ],
      "metadata": {
        "colab": {
          "base_uri": "https://localhost:8080/",
          "height": 363
        },
        "id": "elGz8oiBtm-S",
        "outputId": "57c40b84-2c35-4a34-bcd6-3d90cef24f60"
      },
      "execution_count": 42,
      "outputs": [
        {
          "output_type": "execute_result",
          "data": {
            "text/plain": [
              "   Degree_Centrality  Closeness_Centrality  Betweeness_Centrality\n",
              "0               0.56                  0.00                   0.00\n",
              "1               0.33                  0.11                   0.11\n",
              "2               0.22                  0.11                   0.11\n",
              "3               0.33                  0.15                   0.15\n",
              "4               0.22                  0.11                   0.11\n",
              "5               0.44                  0.54                   0.54\n",
              "6               0.33                  0.25                   0.25\n",
              "7               0.22                  0.30                   0.30\n",
              "8               0.22                  0.11                   0.11\n",
              "9               0.22                  0.11                   0.11"
            ],
            "text/html": [
              "\n",
              "  <div id=\"df-1a05ad6b-a925-47d0-a3f1-2e0e4f1fdca4\">\n",
              "    <div class=\"colab-df-container\">\n",
              "      <div>\n",
              "<style scoped>\n",
              "    .dataframe tbody tr th:only-of-type {\n",
              "        vertical-align: middle;\n",
              "    }\n",
              "\n",
              "    .dataframe tbody tr th {\n",
              "        vertical-align: top;\n",
              "    }\n",
              "\n",
              "    .dataframe thead th {\n",
              "        text-align: right;\n",
              "    }\n",
              "</style>\n",
              "<table border=\"1\" class=\"dataframe\">\n",
              "  <thead>\n",
              "    <tr style=\"text-align: right;\">\n",
              "      <th></th>\n",
              "      <th>Degree_Centrality</th>\n",
              "      <th>Closeness_Centrality</th>\n",
              "      <th>Betweeness_Centrality</th>\n",
              "    </tr>\n",
              "  </thead>\n",
              "  <tbody>\n",
              "    <tr>\n",
              "      <th>0</th>\n",
              "      <td>0.56</td>\n",
              "      <td>0.00</td>\n",
              "      <td>0.00</td>\n",
              "    </tr>\n",
              "    <tr>\n",
              "      <th>1</th>\n",
              "      <td>0.33</td>\n",
              "      <td>0.11</td>\n",
              "      <td>0.11</td>\n",
              "    </tr>\n",
              "    <tr>\n",
              "      <th>2</th>\n",
              "      <td>0.22</td>\n",
              "      <td>0.11</td>\n",
              "      <td>0.11</td>\n",
              "    </tr>\n",
              "    <tr>\n",
              "      <th>3</th>\n",
              "      <td>0.33</td>\n",
              "      <td>0.15</td>\n",
              "      <td>0.15</td>\n",
              "    </tr>\n",
              "    <tr>\n",
              "      <th>4</th>\n",
              "      <td>0.22</td>\n",
              "      <td>0.11</td>\n",
              "      <td>0.11</td>\n",
              "    </tr>\n",
              "    <tr>\n",
              "      <th>5</th>\n",
              "      <td>0.44</td>\n",
              "      <td>0.54</td>\n",
              "      <td>0.54</td>\n",
              "    </tr>\n",
              "    <tr>\n",
              "      <th>6</th>\n",
              "      <td>0.33</td>\n",
              "      <td>0.25</td>\n",
              "      <td>0.25</td>\n",
              "    </tr>\n",
              "    <tr>\n",
              "      <th>7</th>\n",
              "      <td>0.22</td>\n",
              "      <td>0.30</td>\n",
              "      <td>0.30</td>\n",
              "    </tr>\n",
              "    <tr>\n",
              "      <th>8</th>\n",
              "      <td>0.22</td>\n",
              "      <td>0.11</td>\n",
              "      <td>0.11</td>\n",
              "    </tr>\n",
              "    <tr>\n",
              "      <th>9</th>\n",
              "      <td>0.22</td>\n",
              "      <td>0.11</td>\n",
              "      <td>0.11</td>\n",
              "    </tr>\n",
              "  </tbody>\n",
              "</table>\n",
              "</div>\n",
              "      <button class=\"colab-df-convert\" onclick=\"convertToInteractive('df-1a05ad6b-a925-47d0-a3f1-2e0e4f1fdca4')\"\n",
              "              title=\"Convert this dataframe to an interactive table.\"\n",
              "              style=\"display:none;\">\n",
              "        \n",
              "  <svg xmlns=\"http://www.w3.org/2000/svg\" height=\"24px\"viewBox=\"0 0 24 24\"\n",
              "       width=\"24px\">\n",
              "    <path d=\"M0 0h24v24H0V0z\" fill=\"none\"/>\n",
              "    <path d=\"M18.56 5.44l.94 2.06.94-2.06 2.06-.94-2.06-.94-.94-2.06-.94 2.06-2.06.94zm-11 1L8.5 8.5l.94-2.06 2.06-.94-2.06-.94L8.5 2.5l-.94 2.06-2.06.94zm10 10l.94 2.06.94-2.06 2.06-.94-2.06-.94-.94-2.06-.94 2.06-2.06.94z\"/><path d=\"M17.41 7.96l-1.37-1.37c-.4-.4-.92-.59-1.43-.59-.52 0-1.04.2-1.43.59L10.3 9.45l-7.72 7.72c-.78.78-.78 2.05 0 2.83L4 21.41c.39.39.9.59 1.41.59.51 0 1.02-.2 1.41-.59l7.78-7.78 2.81-2.81c.8-.78.8-2.07 0-2.86zM5.41 20L4 18.59l7.72-7.72 1.47 1.35L5.41 20z\"/>\n",
              "  </svg>\n",
              "      </button>\n",
              "      \n",
              "  <style>\n",
              "    .colab-df-container {\n",
              "      display:flex;\n",
              "      flex-wrap:wrap;\n",
              "      gap: 12px;\n",
              "    }\n",
              "\n",
              "    .colab-df-convert {\n",
              "      background-color: #E8F0FE;\n",
              "      border: none;\n",
              "      border-radius: 50%;\n",
              "      cursor: pointer;\n",
              "      display: none;\n",
              "      fill: #1967D2;\n",
              "      height: 32px;\n",
              "      padding: 0 0 0 0;\n",
              "      width: 32px;\n",
              "    }\n",
              "\n",
              "    .colab-df-convert:hover {\n",
              "      background-color: #E2EBFA;\n",
              "      box-shadow: 0px 1px 2px rgba(60, 64, 67, 0.3), 0px 1px 3px 1px rgba(60, 64, 67, 0.15);\n",
              "      fill: #174EA6;\n",
              "    }\n",
              "\n",
              "    [theme=dark] .colab-df-convert {\n",
              "      background-color: #3B4455;\n",
              "      fill: #D2E3FC;\n",
              "    }\n",
              "\n",
              "    [theme=dark] .colab-df-convert:hover {\n",
              "      background-color: #434B5C;\n",
              "      box-shadow: 0px 1px 3px 1px rgba(0, 0, 0, 0.15);\n",
              "      filter: drop-shadow(0px 1px 2px rgba(0, 0, 0, 0.3));\n",
              "      fill: #FFFFFF;\n",
              "    }\n",
              "  </style>\n",
              "\n",
              "      <script>\n",
              "        const buttonEl =\n",
              "          document.querySelector('#df-1a05ad6b-a925-47d0-a3f1-2e0e4f1fdca4 button.colab-df-convert');\n",
              "        buttonEl.style.display =\n",
              "          google.colab.kernel.accessAllowed ? 'block' : 'none';\n",
              "\n",
              "        async function convertToInteractive(key) {\n",
              "          const element = document.querySelector('#df-1a05ad6b-a925-47d0-a3f1-2e0e4f1fdca4');\n",
              "          const dataTable =\n",
              "            await google.colab.kernel.invokeFunction('convertToInteractive',\n",
              "                                                     [key], {});\n",
              "          if (!dataTable) return;\n",
              "\n",
              "          const docLinkHtml = 'Like what you see? Visit the ' +\n",
              "            '<a target=\"_blank\" href=https://colab.research.google.com/notebooks/data_table.ipynb>data table notebook</a>'\n",
              "            + ' to learn more about interactive tables.';\n",
              "          element.innerHTML = '';\n",
              "          dataTable['output_type'] = 'display_data';\n",
              "          await google.colab.output.renderOutput(dataTable, element);\n",
              "          const docLink = document.createElement('div');\n",
              "          docLink.innerHTML = docLinkHtml;\n",
              "          element.appendChild(docLink);\n",
              "        }\n",
              "      </script>\n",
              "    </div>\n",
              "  </div>\n",
              "  "
            ]
          },
          "metadata": {},
          "execution_count": 42
        }
      ]
    },
    {
      "cell_type": "code",
      "source": [
        "node_min,min = find_node_min_centarlity(udf,'Degree_Centrality')\n",
        "node_max,max = find_node_max_centarlity(udf,'Degree_Centrality')\n",
        "print(node_min,min)\n",
        "print(node_max,max)\n",
        "degree_cent_min_max = {'Min Degree Node':str(node_min),'Value C1':min,'Max Degree Node':str(node_max),'Value C2':max}"
      ],
      "metadata": {
        "colab": {
          "base_uri": "https://localhost:8080/"
        },
        "id": "vMrOs6C5tpzI",
        "outputId": "7e34971f-f2c6-43bd-8c5e-16d1a942cec5"
      },
      "execution_count": 43,
      "outputs": [
        {
          "output_type": "stream",
          "name": "stdout",
          "text": [
            "2 0.22\n",
            "0 0.56\n"
          ]
        }
      ]
    },
    {
      "cell_type": "code",
      "source": [
        "\n",
        "node_min,min = find_node_min_centarlity(ddf,'Closeness_Centrality')\n",
        "node_max,max = find_node_max_centarlity(ddf,'Closeness_Centrality')\n",
        "print(node_min,min)\n",
        "print(node_max,max)\n",
        "closeness_cent_min_max = {'Min Degree Node':str(node_min),'Value C1':min,'Max Degree Node':str(node_max),'Value C2':max}\n"
      ],
      "metadata": {
        "colab": {
          "base_uri": "https://localhost:8080/"
        },
        "id": "tTDg5LKvttnF",
        "outputId": "a7d7a746-c140-47ed-c9b1-a5590699553d"
      },
      "execution_count": 44,
      "outputs": [
        {
          "output_type": "stream",
          "name": "stdout",
          "text": [
            "0 0.0\n",
            "5 0.54\n"
          ]
        }
      ]
    },
    {
      "cell_type": "code",
      "source": [
        "node_min,min = find_node_min_centarlity(ddf,'Betweeness_Centrality')\n",
        "node_max,max = find_node_max_centarlity(ddf,'Betweeness_Centrality')\n",
        "print(node_min,min)\n",
        "print(node_max,max)\n",
        "betweeness_cent_min_max = {'Min Degree Node':str(node_min),'Value C1':min,'Max Degree Node':str(node_max),'Value C2':max}"
      ],
      "metadata": {
        "colab": {
          "base_uri": "https://localhost:8080/"
        },
        "id": "gCd7xYZPtwFZ",
        "outputId": "7d2e9da2-55db-4c09-c3a6-dc8b93a36b6d"
      },
      "execution_count": 45,
      "outputs": [
        {
          "output_type": "stream",
          "name": "stdout",
          "text": [
            "0 0.0\n",
            "5 0.54\n"
          ]
        }
      ]
    },
    {
      "cell_type": "code",
      "source": [
        "'''\n",
        "node_min,min = find_node_min_centarlity(ddf,'Eigen_Vector_Centrality')\n",
        "node_max,max = find_node_max_centarlity(ddf,'Eigen_Vector_Centrality')\n",
        "print(node_min,min)\n",
        "print(node_max,max)\n",
        "eigen_vector_cent_min_max = {'Min Degree Node':str(node_min),'Value C1':min,'Max Degree Node':str(node_max),'Value C2':max}\n",
        "'''"
      ],
      "metadata": {
        "colab": {
          "base_uri": "https://localhost:8080/",
          "height": 53
        },
        "id": "GwJ1yZabtyEz",
        "outputId": "58f6d17c-6902-4425-c8f5-720be37714af"
      },
      "execution_count": 46,
      "outputs": [
        {
          "output_type": "execute_result",
          "data": {
            "text/plain": [
              "\"\\nnode_min,min = find_node_min_centarlity(ddf,'Eigen_Vector_Centrality')\\nnode_max,max = find_node_max_centarlity(ddf,'Eigen_Vector_Centrality')\\nprint(node_min,min)\\nprint(node_max,max)\\neigen_vector_cent_min_max = {'Min Degree Node':str(node_min),'Value C1':min,'Max Degree Node':str(node_max),'Value C2':max}\\n\""
            ],
            "application/vnd.google.colaboratory.intrinsic+json": {
              "type": "string"
            }
          },
          "metadata": {},
          "execution_count": 46
        }
      ]
    },
    {
      "cell_type": "code",
      "source": [
        "ddf_min_max = pd.DataFrame(columns=['Min Degree Node','Value C1','Max Degree Node','Value C2'])\n",
        "\n",
        "ddf_min_max"
      ],
      "metadata": {
        "colab": {
          "base_uri": "https://localhost:8080/",
          "height": 49
        },
        "id": "Do4Wzr9at0QW",
        "outputId": "3bbd319d-9815-432d-ac44-0a79530e9da8"
      },
      "execution_count": 47,
      "outputs": [
        {
          "output_type": "execute_result",
          "data": {
            "text/plain": [
              "Empty DataFrame\n",
              "Columns: [Min Degree Node, Value C1, Max Degree Node, Value C2]\n",
              "Index: []"
            ],
            "text/html": [
              "\n",
              "  <div id=\"df-63d5eddf-e12f-4999-b673-877c29452a14\">\n",
              "    <div class=\"colab-df-container\">\n",
              "      <div>\n",
              "<style scoped>\n",
              "    .dataframe tbody tr th:only-of-type {\n",
              "        vertical-align: middle;\n",
              "    }\n",
              "\n",
              "    .dataframe tbody tr th {\n",
              "        vertical-align: top;\n",
              "    }\n",
              "\n",
              "    .dataframe thead th {\n",
              "        text-align: right;\n",
              "    }\n",
              "</style>\n",
              "<table border=\"1\" class=\"dataframe\">\n",
              "  <thead>\n",
              "    <tr style=\"text-align: right;\">\n",
              "      <th></th>\n",
              "      <th>Min Degree Node</th>\n",
              "      <th>Value C1</th>\n",
              "      <th>Max Degree Node</th>\n",
              "      <th>Value C2</th>\n",
              "    </tr>\n",
              "  </thead>\n",
              "  <tbody>\n",
              "  </tbody>\n",
              "</table>\n",
              "</div>\n",
              "      <button class=\"colab-df-convert\" onclick=\"convertToInteractive('df-63d5eddf-e12f-4999-b673-877c29452a14')\"\n",
              "              title=\"Convert this dataframe to an interactive table.\"\n",
              "              style=\"display:none;\">\n",
              "        \n",
              "  <svg xmlns=\"http://www.w3.org/2000/svg\" height=\"24px\"viewBox=\"0 0 24 24\"\n",
              "       width=\"24px\">\n",
              "    <path d=\"M0 0h24v24H0V0z\" fill=\"none\"/>\n",
              "    <path d=\"M18.56 5.44l.94 2.06.94-2.06 2.06-.94-2.06-.94-.94-2.06-.94 2.06-2.06.94zm-11 1L8.5 8.5l.94-2.06 2.06-.94-2.06-.94L8.5 2.5l-.94 2.06-2.06.94zm10 10l.94 2.06.94-2.06 2.06-.94-2.06-.94-.94-2.06-.94 2.06-2.06.94z\"/><path d=\"M17.41 7.96l-1.37-1.37c-.4-.4-.92-.59-1.43-.59-.52 0-1.04.2-1.43.59L10.3 9.45l-7.72 7.72c-.78.78-.78 2.05 0 2.83L4 21.41c.39.39.9.59 1.41.59.51 0 1.02-.2 1.41-.59l7.78-7.78 2.81-2.81c.8-.78.8-2.07 0-2.86zM5.41 20L4 18.59l7.72-7.72 1.47 1.35L5.41 20z\"/>\n",
              "  </svg>\n",
              "      </button>\n",
              "      \n",
              "  <style>\n",
              "    .colab-df-container {\n",
              "      display:flex;\n",
              "      flex-wrap:wrap;\n",
              "      gap: 12px;\n",
              "    }\n",
              "\n",
              "    .colab-df-convert {\n",
              "      background-color: #E8F0FE;\n",
              "      border: none;\n",
              "      border-radius: 50%;\n",
              "      cursor: pointer;\n",
              "      display: none;\n",
              "      fill: #1967D2;\n",
              "      height: 32px;\n",
              "      padding: 0 0 0 0;\n",
              "      width: 32px;\n",
              "    }\n",
              "\n",
              "    .colab-df-convert:hover {\n",
              "      background-color: #E2EBFA;\n",
              "      box-shadow: 0px 1px 2px rgba(60, 64, 67, 0.3), 0px 1px 3px 1px rgba(60, 64, 67, 0.15);\n",
              "      fill: #174EA6;\n",
              "    }\n",
              "\n",
              "    [theme=dark] .colab-df-convert {\n",
              "      background-color: #3B4455;\n",
              "      fill: #D2E3FC;\n",
              "    }\n",
              "\n",
              "    [theme=dark] .colab-df-convert:hover {\n",
              "      background-color: #434B5C;\n",
              "      box-shadow: 0px 1px 3px 1px rgba(0, 0, 0, 0.15);\n",
              "      filter: drop-shadow(0px 1px 2px rgba(0, 0, 0, 0.3));\n",
              "      fill: #FFFFFF;\n",
              "    }\n",
              "  </style>\n",
              "\n",
              "      <script>\n",
              "        const buttonEl =\n",
              "          document.querySelector('#df-63d5eddf-e12f-4999-b673-877c29452a14 button.colab-df-convert');\n",
              "        buttonEl.style.display =\n",
              "          google.colab.kernel.accessAllowed ? 'block' : 'none';\n",
              "\n",
              "        async function convertToInteractive(key) {\n",
              "          const element = document.querySelector('#df-63d5eddf-e12f-4999-b673-877c29452a14');\n",
              "          const dataTable =\n",
              "            await google.colab.kernel.invokeFunction('convertToInteractive',\n",
              "                                                     [key], {});\n",
              "          if (!dataTable) return;\n",
              "\n",
              "          const docLinkHtml = 'Like what you see? Visit the ' +\n",
              "            '<a target=\"_blank\" href=https://colab.research.google.com/notebooks/data_table.ipynb>data table notebook</a>'\n",
              "            + ' to learn more about interactive tables.';\n",
              "          element.innerHTML = '';\n",
              "          dataTable['output_type'] = 'display_data';\n",
              "          await google.colab.output.renderOutput(dataTable, element);\n",
              "          const docLink = document.createElement('div');\n",
              "          docLink.innerHTML = docLinkHtml;\n",
              "          element.appendChild(docLink);\n",
              "        }\n",
              "      </script>\n",
              "    </div>\n",
              "  </div>\n",
              "  "
            ]
          },
          "metadata": {},
          "execution_count": 47
        }
      ]
    },
    {
      "cell_type": "code",
      "source": [
        "ddf_min_max = ddf_min_max.append(pd.Series(degree_cent_min_max,index = ddf_min_max.columns,name = 'Degree Centrality'))\n",
        "ddf_min_max = ddf_min_max.append(pd.Series(closeness_cent_min_max,index = ddf_min_max.columns,name = 'Closeness Centrality'))\n",
        "ddf_min_max = ddf_min_max.append(pd.Series(betweeness_cent_min_max,index = ddf_min_max.columns,name = 'Betweeness Centrality'))\n",
        "#ddf_min_max = ddf_min_max.append(pd.Series(eigen_vector_cent_min_max,index = ddf_min_max.columns,name = 'Eigen Vector Centrality'))\n",
        "ddf_min_max"
      ],
      "metadata": {
        "colab": {
          "base_uri": "https://localhost:8080/",
          "height": 247
        },
        "id": "nqMWSoF-t2yN",
        "outputId": "e7826b69-ebbc-48c3-a2d4-4024ea800780"
      },
      "execution_count": 48,
      "outputs": [
        {
          "output_type": "stream",
          "name": "stderr",
          "text": [
            "<ipython-input-48-ee76da975917>:1: FutureWarning: The frame.append method is deprecated and will be removed from pandas in a future version. Use pandas.concat instead.\n",
            "  ddf_min_max = ddf_min_max.append(pd.Series(degree_cent_min_max,index = ddf_min_max.columns,name = 'Degree Centrality'))\n",
            "<ipython-input-48-ee76da975917>:2: FutureWarning: The frame.append method is deprecated and will be removed from pandas in a future version. Use pandas.concat instead.\n",
            "  ddf_min_max = ddf_min_max.append(pd.Series(closeness_cent_min_max,index = ddf_min_max.columns,name = 'Closeness Centrality'))\n",
            "<ipython-input-48-ee76da975917>:3: FutureWarning: The frame.append method is deprecated and will be removed from pandas in a future version. Use pandas.concat instead.\n",
            "  ddf_min_max = ddf_min_max.append(pd.Series(betweeness_cent_min_max,index = ddf_min_max.columns,name = 'Betweeness Centrality'))\n"
          ]
        },
        {
          "output_type": "execute_result",
          "data": {
            "text/plain": [
              "                      Min Degree Node  Value C1 Max Degree Node  Value C2\n",
              "Degree Centrality                   2      0.22               0      0.56\n",
              "Closeness Centrality                0      0.00               5      0.54\n",
              "Betweeness Centrality               0      0.00               5      0.54"
            ],
            "text/html": [
              "\n",
              "  <div id=\"df-f0428688-83ca-44f9-b5fd-1683414b9c96\">\n",
              "    <div class=\"colab-df-container\">\n",
              "      <div>\n",
              "<style scoped>\n",
              "    .dataframe tbody tr th:only-of-type {\n",
              "        vertical-align: middle;\n",
              "    }\n",
              "\n",
              "    .dataframe tbody tr th {\n",
              "        vertical-align: top;\n",
              "    }\n",
              "\n",
              "    .dataframe thead th {\n",
              "        text-align: right;\n",
              "    }\n",
              "</style>\n",
              "<table border=\"1\" class=\"dataframe\">\n",
              "  <thead>\n",
              "    <tr style=\"text-align: right;\">\n",
              "      <th></th>\n",
              "      <th>Min Degree Node</th>\n",
              "      <th>Value C1</th>\n",
              "      <th>Max Degree Node</th>\n",
              "      <th>Value C2</th>\n",
              "    </tr>\n",
              "  </thead>\n",
              "  <tbody>\n",
              "    <tr>\n",
              "      <th>Degree Centrality</th>\n",
              "      <td>2</td>\n",
              "      <td>0.22</td>\n",
              "      <td>0</td>\n",
              "      <td>0.56</td>\n",
              "    </tr>\n",
              "    <tr>\n",
              "      <th>Closeness Centrality</th>\n",
              "      <td>0</td>\n",
              "      <td>0.00</td>\n",
              "      <td>5</td>\n",
              "      <td>0.54</td>\n",
              "    </tr>\n",
              "    <tr>\n",
              "      <th>Betweeness Centrality</th>\n",
              "      <td>0</td>\n",
              "      <td>0.00</td>\n",
              "      <td>5</td>\n",
              "      <td>0.54</td>\n",
              "    </tr>\n",
              "  </tbody>\n",
              "</table>\n",
              "</div>\n",
              "      <button class=\"colab-df-convert\" onclick=\"convertToInteractive('df-f0428688-83ca-44f9-b5fd-1683414b9c96')\"\n",
              "              title=\"Convert this dataframe to an interactive table.\"\n",
              "              style=\"display:none;\">\n",
              "        \n",
              "  <svg xmlns=\"http://www.w3.org/2000/svg\" height=\"24px\"viewBox=\"0 0 24 24\"\n",
              "       width=\"24px\">\n",
              "    <path d=\"M0 0h24v24H0V0z\" fill=\"none\"/>\n",
              "    <path d=\"M18.56 5.44l.94 2.06.94-2.06 2.06-.94-2.06-.94-.94-2.06-.94 2.06-2.06.94zm-11 1L8.5 8.5l.94-2.06 2.06-.94-2.06-.94L8.5 2.5l-.94 2.06-2.06.94zm10 10l.94 2.06.94-2.06 2.06-.94-2.06-.94-.94-2.06-.94 2.06-2.06.94z\"/><path d=\"M17.41 7.96l-1.37-1.37c-.4-.4-.92-.59-1.43-.59-.52 0-1.04.2-1.43.59L10.3 9.45l-7.72 7.72c-.78.78-.78 2.05 0 2.83L4 21.41c.39.39.9.59 1.41.59.51 0 1.02-.2 1.41-.59l7.78-7.78 2.81-2.81c.8-.78.8-2.07 0-2.86zM5.41 20L4 18.59l7.72-7.72 1.47 1.35L5.41 20z\"/>\n",
              "  </svg>\n",
              "      </button>\n",
              "      \n",
              "  <style>\n",
              "    .colab-df-container {\n",
              "      display:flex;\n",
              "      flex-wrap:wrap;\n",
              "      gap: 12px;\n",
              "    }\n",
              "\n",
              "    .colab-df-convert {\n",
              "      background-color: #E8F0FE;\n",
              "      border: none;\n",
              "      border-radius: 50%;\n",
              "      cursor: pointer;\n",
              "      display: none;\n",
              "      fill: #1967D2;\n",
              "      height: 32px;\n",
              "      padding: 0 0 0 0;\n",
              "      width: 32px;\n",
              "    }\n",
              "\n",
              "    .colab-df-convert:hover {\n",
              "      background-color: #E2EBFA;\n",
              "      box-shadow: 0px 1px 2px rgba(60, 64, 67, 0.3), 0px 1px 3px 1px rgba(60, 64, 67, 0.15);\n",
              "      fill: #174EA6;\n",
              "    }\n",
              "\n",
              "    [theme=dark] .colab-df-convert {\n",
              "      background-color: #3B4455;\n",
              "      fill: #D2E3FC;\n",
              "    }\n",
              "\n",
              "    [theme=dark] .colab-df-convert:hover {\n",
              "      background-color: #434B5C;\n",
              "      box-shadow: 0px 1px 3px 1px rgba(0, 0, 0, 0.15);\n",
              "      filter: drop-shadow(0px 1px 2px rgba(0, 0, 0, 0.3));\n",
              "      fill: #FFFFFF;\n",
              "    }\n",
              "  </style>\n",
              "\n",
              "      <script>\n",
              "        const buttonEl =\n",
              "          document.querySelector('#df-f0428688-83ca-44f9-b5fd-1683414b9c96 button.colab-df-convert');\n",
              "        buttonEl.style.display =\n",
              "          google.colab.kernel.accessAllowed ? 'block' : 'none';\n",
              "\n",
              "        async function convertToInteractive(key) {\n",
              "          const element = document.querySelector('#df-f0428688-83ca-44f9-b5fd-1683414b9c96');\n",
              "          const dataTable =\n",
              "            await google.colab.kernel.invokeFunction('convertToInteractive',\n",
              "                                                     [key], {});\n",
              "          if (!dataTable) return;\n",
              "\n",
              "          const docLinkHtml = 'Like what you see? Visit the ' +\n",
              "            '<a target=\"_blank\" href=https://colab.research.google.com/notebooks/data_table.ipynb>data table notebook</a>'\n",
              "            + ' to learn more about interactive tables.';\n",
              "          element.innerHTML = '';\n",
              "          dataTable['output_type'] = 'display_data';\n",
              "          await google.colab.output.renderOutput(dataTable, element);\n",
              "          const docLink = document.createElement('div');\n",
              "          docLink.innerHTML = docLinkHtml;\n",
              "          element.appendChild(docLink);\n",
              "        }\n",
              "      </script>\n",
              "    </div>\n",
              "  </div>\n",
              "  "
            ]
          },
          "metadata": {},
          "execution_count": 48
        }
      ]
    },
    {
      "cell_type": "markdown",
      "source": [
        "END OF ASSESMENT 1 \n",
        "\n",
        "SOCIAL NETWORK ANALYTICS\n",
        "\n",
        "AMAN KUMAR SHARMA\n",
        "\n",
        "22MCB0021\n",
        "\n",
        "VIT VELLORE"
      ],
      "metadata": {
        "id": "qeBK2XE5uPCE"
      }
    }
  ]
}